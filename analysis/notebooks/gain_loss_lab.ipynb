{
 "cells": [
  {
   "cell_type": "markdown",
   "metadata": {},
   "source": [
    "## Select Environment & Start Date"
   ]
  },
  {
   "cell_type": "code",
   "execution_count": null,
   "metadata": {},
   "outputs": [],
   "source": [
    "env = \"PAPER\"  # PAPER / PROD / BACKTEST\n",
    "start_date = \"2020-12-07\""
   ]
  },
  {
   "cell_type": "markdown",
   "metadata": {},
   "source": [
    "#### Imports"
   ]
  },
  {
   "cell_type": "code",
   "execution_count": null,
   "metadata": {},
   "outputs": [],
   "source": [
    "import pandas as pd\n",
    "from datetime import datetime\n",
    "import matplotlib.pyplot as plt\n",
    "from IPython.display import HTML, display, Markdown\n",
    "from liualgotrader.models.gain_loss import GainLoss, TradeAnalysis\n",
    "from liualgotrader.analytics.analysis import strategy_return_for_qty_one"
   ]
  },
  {
   "cell_type": "markdown",
   "metadata": {},
   "source": [
    "#### Load Portfolio data from database"
   ]
  },
  {
   "cell_type": "code",
   "execution_count": null,
   "metadata": {},
   "outputs": [],
   "source": [
    "df = await GainLoss.load(env, datetime.strptime(start_date, \"%Y-%m-%d\"))\n",
    "print(f\"loaded {len(df)} entries\")"
   ]
  },
  {
   "cell_type": "code",
   "execution_count": null,
   "metadata": {},
   "outputs": [],
   "source": [
    "counts = df.symbol.value_counts().rename(\"c\").to_frame()"
   ]
  },
  {
   "cell_type": "code",
   "execution_count": null,
   "metadata": {},
   "outputs": [],
   "source": [
    "df[(df.symbol.isin(counts.loc[counts.c >= 2].index.tolist())) & (df.algo_name=='short_trap_buster')]"
   ]
  },
  {
   "cell_type": "code",
   "execution_count": null,
   "metadata": {},
   "outputs": [],
   "source": [
    "df = await TradeAnalysis.load(env,  datetime.strptime(start_date, \"%Y-%m-%d\"))\n",
    "print(f\"loaded {len(df)} entries\")"
   ]
  },
  {
   "cell_type": "code",
   "execution_count": null,
   "metadata": {},
   "outputs": [],
   "source": [
    "counts = df.symbol.value_counts().rename('c').to_frame()"
   ]
  },
  {
   "cell_type": "code",
   "execution_count": null,
   "metadata": {},
   "outputs": [],
   "source": [
    "for strat in df.algo_name.unique().tolist():\n",
    "    df[\n",
    "        (df.symbol.isin(counts.loc[counts.c > 0].index.tolist()))\n",
    "        & (df.algo_name == strat)\n",
    "    ].r_units.hist(bins=5, density=True)\n",
    "    plt.xticks(rotation=45)\n",
    "    plt.ylabel(strat)\n",
    "    plt.xlabel('r units')\n",
    "    plt.show()"
   ]
  },
  {
   "cell_type": "code",
   "execution_count": null,
   "metadata": {},
   "outputs": [],
   "source": [
    "for strat in df.algo_name.unique().tolist():\n",
    "    print(strat)\n",
    "    display(df[ (df.algo_name==strat)]) #(df.r_units > 0) &\n"
   ]
  }
 ],
 "metadata": {
  "kernelspec": {
   "display_name": "Python 3",
   "language": "python",
   "name": "python3"
  },
  "language_info": {
   "codemirror_mode": {
    "name": "ipython",
    "version": 3
   },
   "file_extension": ".py",
   "mimetype": "text/x-python",
   "name": "python",
   "nbconvert_exporter": "python",
   "pygments_lexer": "ipython3",
   "version": "3.8.0"
  }
 },
 "nbformat": 4,
 "nbformat_minor": 4
}
