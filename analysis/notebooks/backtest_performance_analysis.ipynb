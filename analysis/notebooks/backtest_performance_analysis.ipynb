{
 "cells": [
  {
   "cell_type": "markdown",
   "metadata": {},
   "source": [
    "# Select batch-id for execution"
   ]
  },
  {
   "cell_type": "code",
   "execution_count": null,
   "metadata": {},
   "outputs": [],
   "source": [
    "batch_id = \"efdb1452-d681-41cf-8bc9-5a2b742293b2\""
   ]
  },
  {
   "cell_type": "markdown",
   "metadata": {},
   "source": [
    "#### imports"
   ]
  },
  {
   "cell_type": "code",
   "execution_count": null,
   "metadata": {},
   "outputs": [],
   "source": [
    "import asyncio\n",
    "import json\n",
    "import math\n",
    "import sys\n",
    "from datetime import date, datetime, timedelta\n",
    "\n",
    "import alpaca_trade_api as tradeapi\n",
    "import iso8601\n",
    "import matplotlib.pyplot as plt\n",
    "import nest_asyncio\n",
    "import numpy as np\n",
    "import pandas as pd\n",
    "import pytz\n",
    "import requests\n",
    "from dateutil import parser\n",
    "from IPython.display import HTML, display, Markdown\n",
    "from liualgotrader.analytics.analysis import (\n",
    "    calc_batch_revenue,\n",
    "    count_trades,\n",
    "    load_trades_by_batch_id,\n",
    ")\n",
    "from liualgotrader.common import config\n",
    "from liualgotrader.common.market_data import (\n",
    "    get_historical_data_from_poylgon_for_symbols,\n",
    ")\n",
    "from pandas import DataFrame as df\n",
    "from pytz import timezone\n",
    "from talib import BBANDS, MACD, RSI\n",
    "\n",
    "%matplotlib inline\n",
    "\n",
    "\n",
    "nest_asyncio.apply()"
   ]
  },
  {
   "cell_type": "markdown",
   "metadata": {},
   "source": [
    "#### connect to Alpaca Markets"
   ]
  },
  {
   "cell_type": "code",
   "execution_count": null,
   "metadata": {},
   "outputs": [],
   "source": [
    "api = tradeapi.REST(base_url=\"https://api.alpaca.markets\")"
   ]
  },
  {
   "cell_type": "markdown",
   "metadata": {},
   "source": [
    "#### Load batch data"
   ]
  },
  {
   "cell_type": "code",
   "execution_count": null,
   "metadata": {},
   "outputs": [],
   "source": [
    "trades = load_trades_by_batch_id(batch_id)"
   ]
  },
  {
   "cell_type": "code",
   "execution_count": null,
   "metadata": {},
   "outputs": [],
   "source": [
    "if trades.empty:\n",
    "    assert False, \"Empty batch. halting execution.\""
   ]
  },
  {
   "cell_type": "markdown",
   "metadata": {},
   "source": [
    "## Calculating batch performance"
   ]
  },
  {
   "cell_type": "code",
   "execution_count": null,
   "metadata": {},
   "outputs": [],
   "source": [
    "day_to_analyze = min(trades[\"client_time\"].tolist())\n",
    "config.market_open = day_to_analyze.replace(hour=9, minute=30, second=0, microsecond=0)"
   ]
  },
  {
   "cell_type": "code",
   "execution_count": null,
   "metadata": {},
   "outputs": [],
   "source": [
    "how_was_my_batch = pd.DataFrame()\n",
    "trades[\"client_time\"] = pd.to_datetime(trades[\"client_time\"])\n",
    "how_was_my_batch[\"symbol\"] = trades.symbol.unique()\n",
    "how_was_my_batch[\"revenues\"] = how_was_my_batch[\"symbol\"].apply(\n",
    "    lambda x: calc_batch_revenue(x, trades, batch_id)\n",
    ")\n",
    "how_was_my_batch[\"count\"] = how_was_my_batch[\"symbol\"].apply(\n",
    "    lambda x: count_trades(x, trades, batch_id)\n",
    ")"
   ]
  },
  {
   "cell_type": "code",
   "execution_count": null,
   "metadata": {},
   "outputs": [],
   "source": [
    "pd.set_option(\"display.max_rows\", how_was_my_batch.shape[0] + 1)\n",
    "revenues = round(sum(how_was_my_batch[\"revenues\"]), 2)\n",
    "traded = len(how_was_my_batch)\n",
    "win_ratio = round(\n",
    "        1.0\n",
    "        * len(how_was_my_batch[how_was_my_batch.revenues >= 0])\n",
    "        / len(how_was_my_batch[how_was_my_batch.revenues < 0]),\n",
    "        2,\n",
    "    ) if len(how_was_my_batch[how_was_my_batch.revenues < 0]) else \"high!\"\n",
    "print(\n",
    "    f\"Total revenues=${revenues}\\nTotal traded:{traded} Win/Lose ration {win_ratio}\"\n",
    ")\n",
    "\n",
    "display(\n",
    "    Markdown(f\"{len(how_was_my_batch[how_was_my_batch.revenues >= 0])} **Winners**\")\n",
    ")\n",
    "display(how_was_my_batch[how_was_my_batch.revenues >= 0].sort_values('revenues'))\n",
    "display(Markdown(f\"{len(how_was_my_batch[how_was_my_batch.revenues < 0])} **Lossers**\"))\n",
    "display(how_was_my_batch[how_was_my_batch.revenues < 0].sort_values('revenues'))"
   ]
  },
  {
   "cell_type": "markdown",
   "metadata": {},
   "source": [
    "#### Load historical data from Polygon.io"
   ]
  },
  {
   "cell_type": "code",
   "execution_count": null,
   "metadata": {},
   "outputs": [],
   "source": [
    "minute_history = get_historical_data_from_poylgon_for_symbols(\n",
    "    api,\n",
    "    trades.symbol.unique().tolist(),\n",
    "    day_to_analyze - timedelta(days=7),\n",
    "    day_to_analyze + timedelta(days=1),\n",
    ")"
   ]
  },
  {
   "cell_type": "markdown",
   "metadata": {},
   "source": [
    "## Display trades in details"
   ]
  },
  {
   "cell_type": "code",
   "execution_count": null,
   "metadata": {},
   "outputs": [],
   "source": [
    "for symbol in minute_history:\n",
    "    symbol_df = trades.loc[trades[\"symbol\"] == symbol]\n",
    "    start_date = symbol_df[\"client_time\"].min()\n",
    "    start_date = start_date.replace(hour=9, minute=30)\n",
    "    end_date = start_date.replace(hour=16, minute=0)\n",
    "    cool_down_date = start_date + timedelta(minutes=5)\n",
    "    minute_history_index = minute_history[symbol][\"close\"].index.get_loc(\n",
    "        start_date, method=\"nearest\"\n",
    "    )\n",
    "    end_index = minute_history[symbol][\"close\"].index.get_loc(\n",
    "        end_date, method=\"nearest\"\n",
    "    )\n",
    "    cool_minute_history_index = minute_history[symbol][\"close\"].index.get_loc(\n",
    "        cool_down_date, method=\"nearest\"\n",
    "    )\n",
    "    open_price = minute_history[symbol][\"close\"][cool_minute_history_index]\n",
    "    plt.plot(\n",
    "        minute_history[symbol][\"close\"][minute_history_index:end_index].between_time(\n",
    "            \"9:30\", \"16:00\"\n",
    "        ),\n",
    "        label=symbol,\n",
    "    )\n",
    "    plt.xticks(rotation=45)\n",
    "\n",
    "    delta = 0\n",
    "    profit = 0\n",
    "\n",
    "    operations = []\n",
    "    deltas = []\n",
    "    profits = []\n",
    "    times = []\n",
    "    prices = []\n",
    "    qtys = []\n",
    "    indicators = []\n",
    "    target_price = []\n",
    "    stop_price = []\n",
    "    daily_change = []\n",
    "    precent_vwap = []\n",
    "    patterns = []\n",
    "    algo_names = []\n",
    "    for index, row in symbol_df.iterrows():\n",
    "        if (\n",
    "            row[\"operation\"] == \"buy\"\n",
    "            and row[\"qty\"] > 0\n",
    "            or row[\"operation\"] == \"sell\"\n",
    "            and row[\"qty\"] < 0\n",
    "        ):\n",
    "            try:\n",
    "                now = int(row[\"client_time\"])\n",
    "                continue\n",
    "            except Exception:\n",
    "                pass\n",
    "\n",
    "        delta = (\n",
    "            row[\"price\"]\n",
    "            * row[\"qty\"]\n",
    "            * (1 if row[\"operation\"] == \"sell\" and row[\"qty\"] > 0 else -1)\n",
    "        )\n",
    "        profit += delta\n",
    "        plt.scatter(\n",
    "            row[\"client_time\"].to_pydatetime(),\n",
    "            row[\"price\"],\n",
    "            c=\"g\" if row[\"operation\"] == \"buy\" else \"r\",\n",
    "            s=100,\n",
    "        )\n",
    "        algo_names.append(row[\"algo_name\"])\n",
    "        deltas.append(round(delta, 2))\n",
    "        profits.append(round(profit, 2))\n",
    "        operations.append(row[\"operation\"])\n",
    "        times.append(pd.to_datetime(row[\"client_time\"]))\n",
    "        prices.append(row[\"price\"])\n",
    "        qtys.append(row[\"qty\"])\n",
    "        indicator = json.loads(row.indicators)\n",
    "        indicators.append(indicator)\n",
    "        target_price.append(row[\"target_price\"])\n",
    "        stop_price.append(row[\"stop_price\"])\n",
    "        daily_change.append(\n",
    "            f\"{round(100.0 * (float(row['price']) - open_price) / open_price, 2)}%\"\n",
    "        )\n",
    "        precent_vwap.append(\n",
    "            f\"{round(100.0 * (indicator['buy']['avg'] - open_price) / open_price, 2)}%\"\n",
    "            if \"buy\" in indicator and indicator[\"buy\"] and \"avg\" in indicator[\"buy\"]\n",
    "            else \"\"\n",
    "        )\n",
    "\n",
    "    d = {\n",
    "        \"balance\": profits,\n",
    "        \"trade\": deltas,\n",
    "        \"algo\": algo_names,\n",
    "        \"operation\": operations,\n",
    "        \"at\": times,\n",
    "        \"price\": prices,\n",
    "        \"qty\": qtys,\n",
    "        \"daily change\": daily_change,\n",
    "        \"vwap\": precent_vwap,\n",
    "        \"indicators\": indicators,\n",
    "        \"target price\": target_price,\n",
    "        \"stop price\": stop_price,\n",
    "    }\n",
    "    print(f\"{symbol} analysis with profit {round(profit, 2)}\")\n",
    "    display(HTML(pd.DataFrame(data=d).to_html()))\n",
    "    plt.legend()\n",
    "    plt.show()"
   ]
  }
 ],
 "metadata": {
  "kernelspec": {
   "display_name": "Python 3",
   "language": "python",
   "name": "python3"
  },
  "language_info": {
   "codemirror_mode": {
    "name": "ipython",
    "version": 3
   },
   "file_extension": ".py",
   "mimetype": "text/x-python",
   "name": "python",
   "nbconvert_exporter": "python",
   "pygments_lexer": "ipython3",
   "version": "3.8.0"
  }
 },
 "nbformat": 4,
 "nbformat_minor": 2
}
