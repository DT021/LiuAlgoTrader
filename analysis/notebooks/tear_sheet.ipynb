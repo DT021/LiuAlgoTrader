{
 "cells": [
  {
   "cell_type": "markdown",
   "metadata": {},
   "source": [
    "# Trading Report Card : Your Tear Sheet"
   ]
  },
  {
   "cell_type": "markdown",
   "metadata": {},
   "source": [
    "## Select Environment & Start Date"
   ]
  },
  {
   "cell_type": "code",
   "execution_count": null,
   "metadata": {},
   "outputs": [],
   "source": [
    "env = \"PAPER\" # PAPER / PROD / BACKTEST\n",
    "start_date = \"2020-12-07\""
   ]
  },
  {
   "cell_type": "markdown",
   "metadata": {},
   "source": [
    "#### Imports"
   ]
  },
  {
   "cell_type": "code",
   "execution_count": null,
   "metadata": {},
   "outputs": [],
   "source": [
    "# silence warnings\n",
    "import warnings\n",
    "from datetime import datetime\n",
    "import liualgotrader.analytics.analysis as ana\n",
    "from liualgotrader.models.gain_loss import GainLoss, TradeAnalysis\n",
    "import matplotlib.pyplot as plt\n",
    "import nest_asyncio\n",
    "import numpy as np\n",
    "import pandas as pd\n",
    "from empyrical import roll_max_drawdown\n",
    "from scipy.stats import kurtosis, skew\n",
    "from IPython.display import HTML, display, Markdown\n",
    "%matplotlib inline\n",
    "warnings.filterwarnings(\"ignore\")\n",
    "\n",
    "\n",
    "nest_asyncio.apply()"
   ]
  },
  {
   "cell_type": "markdown",
   "metadata": {},
   "source": [
    "#### Load Portfolio data from database"
   ]
  },
  {
   "cell_type": "code",
   "execution_count": null,
   "metadata": {},
   "outputs": [],
   "source": [
    "returns, investments, percentages = ana.portfolio_return(env, start_date)\n",
    "gl_df = await GainLoss.load(env, datetime.strptime(start_date, \"%Y-%m-%d\"))\n",
    "print(f\"loaded {len(gl_df)} gain_loss entries\")\n",
    "ta_df = await TradeAnalysis.load(env,  datetime.strptime(start_date, \"%Y-%m-%d\"))\n",
    "print(f\"loaded {len(ta_df)} trade_analysis entries\")"
   ]
  },
  {
   "cell_type": "code",
   "execution_count": null,
   "metadata": {},
   "outputs": [],
   "source": [
    "display(Markdown(\"## $ Profile / Loss\"))\n",
    "display(returns)\n",
    "display(Markdown(\"## % Profile / Loss\"))\n",
    "display(percentages)\n",
    "display(Markdown(\"## Total $ investments\"))\n",
    "display(investments)"
   ]
  },
  {
   "cell_type": "markdown",
   "metadata": {},
   "source": [
    "\n",
    "## Revenue & Percentage per strategy"
   ]
  },
  {
   "cell_type": "code",
   "execution_count": null,
   "metadata": {},
   "outputs": [],
   "source": [
    "columns = list(returns.columns)\n",
    "columns.insert(0, columns.pop(columns.index(\"revenue\")))\n",
    "with plt.xkcd():\n",
    "    for column in columns:\n",
    "        fig, (ax1, ax2) = plt.subplots(1, 2, figsize=(10, 3))  # 1 row, 2 columns\n",
    "        ax1.set_ylabel(f\"{column} $\")\n",
    "        ax2.set_ylabel(f\"{column} %\")\n",
    "        plt.xticks(rotation=45)\n",
    "        returns[column].plot(ax=ax1)\n",
    "        percentages[column].plot(ax=ax2, color=\"red\")\n",
    "        plt.tight_layout()"
   ]
  },
  {
   "cell_type": "markdown",
   "metadata": {},
   "source": [
    "## Strategy/Symbol affinity to Revenue & Percentage"
   ]
  },
  {
   "cell_type": "code",
   "execution_count": null,
   "metadata": {},
   "outputs": [],
   "source": [
    "counts = gl_df.symbol.value_counts().rename(\"c\").to_frame()\n",
    "display(gl_df[gl_df.symbol.isin(counts.loc[counts.c >= 2].index.tolist())])"
   ]
  },
  {
   "cell_type": "markdown",
   "metadata": {},
   "source": [
    "## Accumulative Revenue & Draw-down"
   ]
  },
  {
   "cell_type": "code",
   "execution_count": null,
   "metadata": {},
   "outputs": [],
   "source": [
    "columns = list(returns.columns)\n",
    "columns.insert(0, columns.pop(columns.index(\"revenue\")))\n",
    "for column in columns:\n",
    "    fig, (ax1, ax2) = plt.subplots(\n",
    "        2, 1, figsize=(10, 4), gridspec_kw={\"height_ratios\": [3, 1]}\n",
    "    )  \n",
    "    ax1.set_ylabel(f\"Accumulative\\n{column} $\")\n",
    "    plt.xticks(rotation=45)\n",
    "    returns[column].cumsum().plot(ax=ax1)\n",
    "    roll_max_drawdown(returns[column].cumsum(), window=1).plot(ax=ax2)\n",
    "    ax2.set_ylabel(\"drawdown\")\n",
    "    plt.tight_layout()"
   ]
  },
  {
   "cell_type": "markdown",
   "metadata": {},
   "source": [
    "## Strategy performance distribution by revenue"
   ]
  },
  {
   "cell_type": "code",
   "execution_count": null,
   "metadata": {},
   "outputs": [],
   "source": [
    "df = pd.DataFrame()\n",
    "df[\"strategy\"] = returns.columns.unique()\n",
    "df[\"mean\"] = df.strategy.apply(lambda x: returns[x].dropna().mean())\n",
    "df[\"std\"] = df.strategy.apply(lambda x: returns[x].dropna().std())\n",
    "df[\"skew\"] = df.strategy.apply(lambda x: skew(returns[x].dropna()))\n",
    "df[\"kurtosis\"] = df.strategy.apply(lambda x: kurtosis(returns[x].dropna()))\n",
    "display(Markdown(\"### Summary\"))\n",
    "display(df)\n",
    "display(Markdown(\"### Revenue Histogram per strategy\"))\n",
    "columns = list(returns.columns)\n",
    "columns.insert(0, columns.pop(columns.index(\"revenue\")))\n",
    "with plt.xkcd():\n",
    "    for column in columns:\n",
    "        returns[column].hist()\n",
    "        plt.xticks(rotation=45)\n",
    "        plt.ylabel(column)\n",
    "        plt.xlabel('$ Revenue')\n",
    "        plt.show()"
   ]
  },
  {
   "cell_type": "markdown",
   "metadata": {},
   "source": [
    "## Strategy performance by `R Units`"
   ]
  },
  {
   "cell_type": "code",
   "execution_count": null,
   "metadata": {},
   "outputs": [],
   "source": [
    "counts = ta_df.symbol.value_counts().rename('c').to_frame()\n",
    "with plt.xkcd():\n",
    "    for strat in ta_df.algo_name.unique().tolist():\n",
    "        ta_df[\n",
    "            (ta_df.symbol.isin(counts.loc[counts.c > 0].index.tolist()))\n",
    "            & (ta_df.algo_name == strat)\n",
    "        ].r_units.hist(bins=10, density=True)\n",
    "        plt.xticks(rotation=45)\n",
    "        plt.ylabel(strat)\n",
    "        plt.xlabel('r units')\n",
    "        plt.show()"
   ]
  },
  {
   "cell_type": "code",
   "execution_count": null,
   "metadata": {},
   "outputs": [],
   "source": [
    "ta_df"
   ]
  }
 ],
 "metadata": {
  "kernelspec": {
   "display_name": "Python 3",
   "language": "python",
   "name": "python3"
  },
  "language_info": {
   "codemirror_mode": {
    "name": "ipython",
    "version": 3
   },
   "file_extension": ".py",
   "mimetype": "text/x-python",
   "name": "python",
   "nbconvert_exporter": "python",
   "pygments_lexer": "ipython3",
   "version": "3.8.0"
  }
 },
 "nbformat": 4,
 "nbformat_minor": 4
}
