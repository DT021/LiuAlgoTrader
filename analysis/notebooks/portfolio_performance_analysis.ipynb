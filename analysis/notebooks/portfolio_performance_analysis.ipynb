{
 "cells": [
  {
   "cell_type": "markdown",
   "metadata": {},
   "source": [
    "## Take Action: Select Day to analyze, and environment"
   ]
  },
  {
   "cell_type": "code",
   "execution_count": null,
   "metadata": {},
   "outputs": [],
   "source": [
    "day_to_analyze = \"2020-12-21\"\n",
    "env = \"PAPER\"  # values may be PAPER / PROD / BACKTEST"
   ]
  },
  {
   "cell_type": "markdown",
   "metadata": {},
   "source": [
    "#### Imports"
   ]
  },
  {
   "cell_type": "code",
   "execution_count": null,
   "metadata": {},
   "outputs": [],
   "source": [
    "import asyncio\n",
    "import json\n",
    "import math\n",
    "import sys\n",
    "from datetime import date, datetime, timedelta\n",
    "\n",
    "import alpaca_trade_api as tradeapi\n",
    "import matplotlib.pyplot as plt\n",
    "import nest_asyncio\n",
    "import numpy as np\n",
    "import pandas as pd\n",
    "import pytz\n",
    "import requests\n",
    "from dateutil import parser\n",
    "from IPython.display import HTML, display, Markdown\n",
    "from liualgotrader.analytics import analysis\n",
    "from pytz import timezone\n",
    "\n",
    "\n",
    "%matplotlib inline\n",
    "\n",
    "nest_asyncio.apply()"
   ]
  },
  {
   "cell_type": "markdown",
   "metadata": {},
   "source": [
    "#### Load trading day details"
   ]
  },
  {
   "cell_type": "code",
   "execution_count": null,
   "metadata": {},
   "outputs": [],
   "source": [
    "day_to_analyze = datetime.strptime(day_to_analyze, \"%Y-%m-%d\")\n",
    "trades = analysis.load_trades(day_to_analyze, env)\n",
    "algo_runs = analysis.load_runs(day_to_analyze, env)"
   ]
  },
  {
   "cell_type": "markdown",
   "metadata": {},
   "source": [
    "## Show trading session performance"
   ]
  },
  {
   "cell_type": "code",
   "execution_count": null,
   "metadata": {},
   "outputs": [],
   "source": [
    "symbol_name = []\n",
    "counts = []\n",
    "revenues = []\n",
    "est = pytz.timezone(\"US/Eastern\")\n",
    "batch_ids = trades.batch_id.unique().tolist()\n",
    "# batch_ids.reverse()\n",
    "\n",
    "current_max = pd.options.display.max_rows\n",
    "pd.set_option(\"display.max_rows\", None)\n",
    "for batch_id in batch_ids:\n",
    "    how_was_my_day = pd.DataFrame()\n",
    "    how_was_my_day[\"symbol\"] = trades.loc[trades[\"batch_id\"] == batch_id][\n",
    "        \"symbol\"\n",
    "    ].unique()\n",
    "    how_was_my_day[\"revenues\"] = how_was_my_day[\"symbol\"].apply(\n",
    "        lambda x: analysis.calc_batch_revenue(x, trades, batch_id)\n",
    "    )\n",
    "    how_was_my_day[\"count\"] = how_was_my_day[\"symbol\"].apply(\n",
    "        lambda x: analysis.count_trades(x, trades, batch_id)\n",
    "    )\n",
    "\n",
    "    if len(algo_runs.loc[algo_runs[\"batch_id\"] == batch_id].start_time) > 0:\n",
    "        batch_time = (\n",
    "            algo_runs.loc[algo_runs[\"batch_id\"] == batch_id]\n",
    "            .start_time.min()\n",
    "            .tz_localize(\"utc\")\n",
    "            .astimezone(est)\n",
    "        )\n",
    "    else:\n",
    "        continue\n",
    "\n",
    "    env = algo_runs[algo_runs[\"batch_id\"] == batch_id].algo_env.tolist()[0]\n",
    "    win_ratio = round(\n",
    "        1.0\n",
    "        * len(how_was_my_day[how_was_my_day.revenues >= 0])\n",
    "        / len(how_was_my_day[how_was_my_day.revenues < 0]),\n",
    "        2,\n",
    "    )\n",
    "    revenues = round(sum(how_was_my_day[\"revenues\"]), 2)\n",
    "    traded = len(how_was_my_day)\n",
    "    print(\n",
    "        f\"[{env}] {batch_id}\\n{batch_time}\\nTotal revenues=${revenues}\\nTotal traded:{traded} Win/Lose ration {win_ratio}\"\n",
    "    )\n",
    "\n",
    "    display(\n",
    "        Markdown(f\"{len(how_was_my_day[how_was_my_day.revenues >= 0])} **Winners**\")\n",
    "    )\n",
    "    display(how_was_my_day[how_was_my_day.revenues >= 0].sort_values('revenues'))\n",
    "    display(Markdown(f\"{len(how_was_my_day[how_was_my_day.revenues < 0])} **Lossers**\"))\n",
    "    display(how_was_my_day[how_was_my_day.revenues < 0].sort_values('revenues'))\n",
    "\n",
    "pd.set_option(\"display.max_rows\", current_max)"
   ]
  },
  {
   "cell_type": "markdown",
   "metadata": {},
   "source": [
    "#### Load stock OHLC details"
   ]
  },
  {
   "cell_type": "code",
   "execution_count": null,
   "metadata": {},
   "outputs": [],
   "source": [
    "api = tradeapi.REST(base_url=\"https://api.alpaca.markets\")\n",
    "minute_history = {}\n",
    "for symbol in trades.symbol.unique().tolist():\n",
    "    minute_history[symbol] = api.polygon.historic_agg_v2(\n",
    "        symbol,\n",
    "        1,\n",
    "        \"minute\",\n",
    "        _from=str((day_to_analyze - timedelta(days=3)).date()),\n",
    "        to=str((day_to_analyze + timedelta(days=1)).date()),\n",
    "    ).df"
   ]
  },
  {
   "cell_type": "markdown",
   "metadata": {},
   "source": [
    "## Show Trading details per Symbol"
   ]
  },
  {
   "cell_type": "code",
   "execution_count": null,
   "metadata": {},
   "outputs": [],
   "source": [
    "est = pytz.timezone(\"US/Eastern\")\n",
    "position = {}\n",
    "for symbol in minute_history:\n",
    "    symbol_df = trades.loc[trades[\"symbol\"] == symbol]\n",
    "    start_date = symbol_df[\"tstamp\"].min().to_pydatetime()\n",
    "    start_date = start_date.replace(\n",
    "        hour=9, minute=30, second=0, microsecond=0, tzinfo=est\n",
    "    )\n",
    "    end_date = start_date.replace(hour=16, minute=0, tzinfo=est)\n",
    "    cool_down_date = start_date + timedelta(minutes=5)\n",
    "    try:\n",
    "        start_index = minute_history[symbol][\"close\"].index.get_loc(\n",
    "            start_date, method=\"nearest\"\n",
    "        )\n",
    "        end_index = minute_history[symbol][\"close\"].index.get_loc(\n",
    "            end_date, method=\"nearest\"\n",
    "        )\n",
    "    except Exception as e:\n",
    "        print(f\"Error for {symbol}: {e}\")\n",
    "        continue\n",
    "\n",
    "    cool_minute_history_index = minute_history[symbol][\"close\"].index.get_loc(\n",
    "        cool_down_date, method=\"nearest\"\n",
    "    )\n",
    "    open_price = float(minute_history[symbol][\"close\"][cool_minute_history_index])\n",
    "    plt.plot(\n",
    "        minute_history[symbol][\"close\"][start_index:end_index],\n",
    "        label=symbol,\n",
    "    )\n",
    "    plt.xticks(rotation=45)\n",
    "\n",
    "    delta = 0\n",
    "    profit = 0\n",
    "\n",
    "    operations = []\n",
    "    deltas = []\n",
    "    profits = []\n",
    "    times = []\n",
    "    prices = []\n",
    "    qtys = []\n",
    "    indicators = []\n",
    "    target_price = []\n",
    "    stop_price = []\n",
    "    daily_change = []\n",
    "    precent_vwap = []\n",
    "    algo_names = []\n",
    "    for index, row in symbol_df.iterrows():\n",
    "        delta = (\n",
    "            row[\"price\"]\n",
    "            * row[\"qty\"]\n",
    "            * (1 if row[\"operation\"] == \"sell\" and row[\"qty\"] > 0 else -1)\n",
    "        )\n",
    "\n",
    "        profit += delta\n",
    "        plt.scatter(\n",
    "            row[\"tstamp\"].to_pydatetime(),\n",
    "            row[\"price\"],\n",
    "            c=\"g\" if row[\"operation\"] == \"buy\" else \"r\",\n",
    "            s=100,\n",
    "        )\n",
    "        algo_names.append(row[\"algo_name\"])\n",
    "        deltas.append(round(delta, 2))\n",
    "        profits.append(round(profit, 2))\n",
    "        operations.append(row[\"operation\"])\n",
    "        times.append(pytz.utc.localize(pd.to_datetime(row[\"tstamp\"])).astimezone(est))\n",
    "        prices.append(row[\"price\"])\n",
    "        qtys.append(row[\"qty\"])\n",
    "        indicator = json.loads(row.indicators)\n",
    "        indicators.append(indicator)\n",
    "        target_price.append(row[\"target_price\"])\n",
    "        stop_price.append(row[\"stop_price\"])\n",
    "        daily_change.append(\n",
    "            f\"{round(100.0 * (float(row['price']) - open_price) / open_price, 2)}%\"\n",
    "        )\n",
    "        precent_vwap.append(\n",
    "            f\"{round(100.0 * (indicator['buy']['avg'] - open_price) / open_price, 2)}%\"\n",
    "            if indicator[\"buy\"] and \"avg\" in indicator[\"buy\"]\n",
    "            else \"\"\n",
    "        )\n",
    "\n",
    "    d = {\n",
    "        \"profit\": profits,\n",
    "        \"algo\": algo_names,\n",
    "        \"trade\": deltas,\n",
    "        \"operation\": operations,\n",
    "        \"at\": times,\n",
    "        \"price\": prices,\n",
    "        \"qty\": qtys,\n",
    "        \"daily change\": daily_change,\n",
    "        \"vwap\": precent_vwap,\n",
    "        \"indicators\": indicators,\n",
    "        \"target price\": target_price,\n",
    "        \"stop price\": stop_price,\n",
    "    }\n",
    "    display(Markdown(\"***\"))\n",
    "    display(Markdown(f\"**{symbol}** analysis with profit **${round(profit, 2)}**\"))\n",
    "    display(HTML(pd.DataFrame(data=d).to_html()))\n",
    "    plt.legend()\n",
    "    plt.show()"
   ]
  }
 ],
 "metadata": {
  "kernelspec": {
   "display_name": "Python 3",
   "language": "python",
   "name": "python3"
  },
  "language_info": {
   "codemirror_mode": {
    "name": "ipython",
    "version": 3
   },
   "file_extension": ".py",
   "mimetype": "text/x-python",
   "name": "python",
   "nbconvert_exporter": "python",
   "pygments_lexer": "ipython3",
   "version": "3.8.0"
  }
 },
 "nbformat": 4,
 "nbformat_minor": 2
}
