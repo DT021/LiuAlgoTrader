{
 "cells": [
  {
   "cell_type": "code",
   "execution_count": 1,
   "metadata": {},
   "outputs": [],
   "source": [
    "import pandas as pd\n",
    "import matplotlib.pyplot as plt\n",
    "import alpaca_trade_api as tradeapi\n",
    "import numpy as np\n",
    "import requests\n",
    "from talib import MACD, RSI, BBANDS\n",
    "from datetime import datetime, timedelta, date\n",
    "from IPython.display import display, HTML\n",
    "%matplotlib inline\n",
    "import json\n",
    "import math\n",
    "from dateutil import parser\n",
    "from pytz import timezone\n",
    "import pytz\n",
    "import sys\n",
    "import iso8601"
   ]
  },
  {
   "cell_type": "code",
   "execution_count": 2,
   "metadata": {},
   "outputs": [],
   "source": [
    "api = tradeapi.REST(base_url=\"https://api.alpaca.markets\")\n",
    "session = requests.session()"
   ]
  },
  {
   "cell_type": "code",
   "execution_count": 3,
   "metadata": {},
   "outputs": [],
   "source": [
    "symbol = 'MRIN'"
   ]
  },
  {
   "cell_type": "code",
   "execution_count": 4,
   "metadata": {},
   "outputs": [],
   "source": [
    "day_to_analyze = '2020-10-23'"
   ]
  },
  {
   "cell_type": "code",
   "execution_count": 5,
   "metadata": {},
   "outputs": [],
   "source": [
    "minutes_data = api.polygon.historic_agg_v2(\n",
    "    symbol, \n",
    "    1, \n",
    "    'minute',\n",
    "    _from = str((datetime.strptime(day_to_analyze, '%Y-%m-%d')-timedelta(days=7)).date()),\n",
    "    to=str((datetime.strptime(day_to_analyze, '%Y-%m-%d')+timedelta(days=1)).date())).df"
   ]
  },
  {
   "cell_type": "code",
   "execution_count": 6,
   "metadata": {},
   "outputs": [
    {
     "data": {
      "text/html": [
       "<div>\n",
       "<style scoped>\n",
       "    .dataframe tbody tr th:only-of-type {\n",
       "        vertical-align: middle;\n",
       "    }\n",
       "\n",
       "    .dataframe tbody tr th {\n",
       "        vertical-align: top;\n",
       "    }\n",
       "\n",
       "    .dataframe thead th {\n",
       "        text-align: right;\n",
       "    }\n",
       "</style>\n",
       "<table border=\"1\" class=\"dataframe\">\n",
       "  <thead>\n",
       "    <tr style=\"text-align: right;\">\n",
       "      <th></th>\n",
       "      <th>open</th>\n",
       "      <th>high</th>\n",
       "      <th>low</th>\n",
       "      <th>close</th>\n",
       "      <th>volume</th>\n",
       "      <th>vwap</th>\n",
       "    </tr>\n",
       "    <tr>\n",
       "      <th>timestamp</th>\n",
       "      <th></th>\n",
       "      <th></th>\n",
       "      <th></th>\n",
       "      <th></th>\n",
       "      <th></th>\n",
       "      <th></th>\n",
       "    </tr>\n",
       "  </thead>\n",
       "  <tbody>\n",
       "    <tr>\n",
       "      <th>2020-10-16 09:36:00-04:00</th>\n",
       "      <td>1.270</td>\n",
       "      <td>1.270</td>\n",
       "      <td>1.270</td>\n",
       "      <td>1.2700</td>\n",
       "      <td>1000.0</td>\n",
       "      <td>1.2700</td>\n",
       "    </tr>\n",
       "    <tr>\n",
       "      <th>2020-10-16 10:35:00-04:00</th>\n",
       "      <td>1.270</td>\n",
       "      <td>1.270</td>\n",
       "      <td>1.270</td>\n",
       "      <td>1.2700</td>\n",
       "      <td>100.0</td>\n",
       "      <td>1.2700</td>\n",
       "    </tr>\n",
       "    <tr>\n",
       "      <th>2020-10-16 10:38:00-04:00</th>\n",
       "      <td>1.260</td>\n",
       "      <td>1.260</td>\n",
       "      <td>1.260</td>\n",
       "      <td>1.2600</td>\n",
       "      <td>1926.0</td>\n",
       "      <td>1.2600</td>\n",
       "    </tr>\n",
       "    <tr>\n",
       "      <th>2020-10-16 11:18:00-04:00</th>\n",
       "      <td>1.260</td>\n",
       "      <td>1.260</td>\n",
       "      <td>1.260</td>\n",
       "      <td>1.2600</td>\n",
       "      <td>100.0</td>\n",
       "      <td>1.2600</td>\n",
       "    </tr>\n",
       "    <tr>\n",
       "      <th>2020-10-16 12:09:00-04:00</th>\n",
       "      <td>1.255</td>\n",
       "      <td>1.255</td>\n",
       "      <td>1.255</td>\n",
       "      <td>1.2550</td>\n",
       "      <td>100.0</td>\n",
       "      <td>1.2550</td>\n",
       "    </tr>\n",
       "    <tr>\n",
       "      <th>...</th>\n",
       "      <td>...</td>\n",
       "      <td>...</td>\n",
       "      <td>...</td>\n",
       "      <td>...</td>\n",
       "      <td>...</td>\n",
       "      <td>...</td>\n",
       "    </tr>\n",
       "    <tr>\n",
       "      <th>2020-10-23 10:09:00-04:00</th>\n",
       "      <td>2.730</td>\n",
       "      <td>2.830</td>\n",
       "      <td>2.720</td>\n",
       "      <td>2.8000</td>\n",
       "      <td>166202.0</td>\n",
       "      <td>2.7733</td>\n",
       "    </tr>\n",
       "    <tr>\n",
       "      <th>2020-10-23 10:10:00-04:00</th>\n",
       "      <td>2.820</td>\n",
       "      <td>3.040</td>\n",
       "      <td>2.820</td>\n",
       "      <td>2.9678</td>\n",
       "      <td>497674.0</td>\n",
       "      <td>2.9425</td>\n",
       "    </tr>\n",
       "    <tr>\n",
       "      <th>2020-10-23 10:11:00-04:00</th>\n",
       "      <td>2.970</td>\n",
       "      <td>3.070</td>\n",
       "      <td>2.910</td>\n",
       "      <td>2.9800</td>\n",
       "      <td>676029.0</td>\n",
       "      <td>2.9862</td>\n",
       "    </tr>\n",
       "    <tr>\n",
       "      <th>2020-10-23 10:12:00-04:00</th>\n",
       "      <td>2.980</td>\n",
       "      <td>3.020</td>\n",
       "      <td>2.900</td>\n",
       "      <td>2.9997</td>\n",
       "      <td>489673.0</td>\n",
       "      <td>2.9654</td>\n",
       "    </tr>\n",
       "    <tr>\n",
       "      <th>2020-10-23 10:13:00-04:00</th>\n",
       "      <td>3.010</td>\n",
       "      <td>3.010</td>\n",
       "      <td>2.760</td>\n",
       "      <td>2.8069</td>\n",
       "      <td>642768.0</td>\n",
       "      <td>2.8499</td>\n",
       "    </tr>\n",
       "  </tbody>\n",
       "</table>\n",
       "<p>2105 rows × 6 columns</p>\n",
       "</div>"
      ],
      "text/plain": [
       "                            open   high    low   close    volume    vwap\n",
       "timestamp                                                               \n",
       "2020-10-16 09:36:00-04:00  1.270  1.270  1.270  1.2700    1000.0  1.2700\n",
       "2020-10-16 10:35:00-04:00  1.270  1.270  1.270  1.2700     100.0  1.2700\n",
       "2020-10-16 10:38:00-04:00  1.260  1.260  1.260  1.2600    1926.0  1.2600\n",
       "2020-10-16 11:18:00-04:00  1.260  1.260  1.260  1.2600     100.0  1.2600\n",
       "2020-10-16 12:09:00-04:00  1.255  1.255  1.255  1.2550     100.0  1.2550\n",
       "...                          ...    ...    ...     ...       ...     ...\n",
       "2020-10-23 10:09:00-04:00  2.730  2.830  2.720  2.8000  166202.0  2.7733\n",
       "2020-10-23 10:10:00-04:00  2.820  3.040  2.820  2.9678  497674.0  2.9425\n",
       "2020-10-23 10:11:00-04:00  2.970  3.070  2.910  2.9800  676029.0  2.9862\n",
       "2020-10-23 10:12:00-04:00  2.980  3.020  2.900  2.9997  489673.0  2.9654\n",
       "2020-10-23 10:13:00-04:00  3.010  3.010  2.760  2.8069  642768.0  2.8499\n",
       "\n",
       "[2105 rows x 6 columns]"
      ]
     },
     "execution_count": 6,
     "metadata": {},
     "output_type": "execute_result"
    }
   ],
   "source": [
    "minutes_data"
   ]
  },
  {
   "cell_type": "code",
   "execution_count": 7,
   "metadata": {},
   "outputs": [],
   "source": [
    "clean_close = minutes_data[\"close\"].dropna().between_time(\"9:30\", \"16:00\").dropna()"
   ]
  },
  {
   "cell_type": "code",
   "execution_count": 8,
   "metadata": {},
   "outputs": [
    {
     "data": {
      "text/plain": [
       "timestamp\n",
       "2020-10-16 09:36:00-04:00    1.2700\n",
       "2020-10-16 10:35:00-04:00    1.2700\n",
       "2020-10-16 10:38:00-04:00    1.2600\n",
       "2020-10-16 11:18:00-04:00    1.2600\n",
       "2020-10-16 12:09:00-04:00    1.2550\n",
       "                              ...  \n",
       "2020-10-23 10:09:00-04:00    2.8000\n",
       "2020-10-23 10:10:00-04:00    2.9678\n",
       "2020-10-23 10:11:00-04:00    2.9800\n",
       "2020-10-23 10:12:00-04:00    2.9997\n",
       "2020-10-23 10:13:00-04:00    2.8069\n",
       "Name: close, Length: 1031, dtype: float64"
      ]
     },
     "execution_count": 8,
     "metadata": {},
     "output_type": "execute_result"
    }
   ],
   "source": [
    "clean_close"
   ]
  },
  {
   "cell_type": "code",
   "execution_count": 9,
   "metadata": {},
   "outputs": [],
   "source": [
    "macds = MACD(clean_close)"
   ]
  },
  {
   "cell_type": "code",
   "execution_count": 10,
   "metadata": {},
   "outputs": [
    {
     "data": {
      "text/plain": [
       "(timestamp\n",
       " 2020-10-16 09:36:00-04:00         NaN\n",
       " 2020-10-16 10:35:00-04:00         NaN\n",
       " 2020-10-16 10:38:00-04:00         NaN\n",
       " 2020-10-16 11:18:00-04:00         NaN\n",
       " 2020-10-16 12:09:00-04:00         NaN\n",
       "                                ...   \n",
       " 2020-10-23 10:09:00-04:00    0.071337\n",
       " 2020-10-23 10:10:00-04:00    0.090606\n",
       " 2020-10-23 10:11:00-04:00    0.105643\n",
       " 2020-10-23 10:12:00-04:00    0.117792\n",
       " 2020-10-23 10:13:00-04:00    0.110588\n",
       " Length: 1031, dtype: float64,\n",
       " timestamp\n",
       " 2020-10-16 09:36:00-04:00         NaN\n",
       " 2020-10-16 10:35:00-04:00         NaN\n",
       " 2020-10-16 10:38:00-04:00         NaN\n",
       " 2020-10-16 11:18:00-04:00         NaN\n",
       " 2020-10-16 12:09:00-04:00         NaN\n",
       "                                ...   \n",
       " 2020-10-23 10:09:00-04:00    0.047437\n",
       " 2020-10-23 10:10:00-04:00    0.056071\n",
       " 2020-10-23 10:11:00-04:00    0.065985\n",
       " 2020-10-23 10:12:00-04:00    0.076347\n",
       " 2020-10-23 10:13:00-04:00    0.083195\n",
       " Length: 1031, dtype: float64,\n",
       " timestamp\n",
       " 2020-10-16 09:36:00-04:00         NaN\n",
       " 2020-10-16 10:35:00-04:00         NaN\n",
       " 2020-10-16 10:38:00-04:00         NaN\n",
       " 2020-10-16 11:18:00-04:00         NaN\n",
       " 2020-10-16 12:09:00-04:00         NaN\n",
       "                                ...   \n",
       " 2020-10-23 10:09:00-04:00    0.023900\n",
       " 2020-10-23 10:10:00-04:00    0.034535\n",
       " 2020-10-23 10:11:00-04:00    0.039658\n",
       " 2020-10-23 10:12:00-04:00    0.041445\n",
       " 2020-10-23 10:13:00-04:00    0.027393\n",
       " Length: 1031, dtype: float64)"
      ]
     },
     "execution_count": 10,
     "metadata": {},
     "output_type": "execute_result"
    }
   ],
   "source": [
    "macds"
   ]
  },
  {
   "cell_type": "code",
   "execution_count": 11,
   "metadata": {},
   "outputs": [],
   "source": [
    "macds[0].dropna().to_csv(f\"{symbol}-{day_to_analyze}-MACD.csv\")\n",
    "macds[1].dropna().to_csv(f\"{symbol}-{day_to_analyze}-MACD-signal.csv\")\n",
    "macds[2].dropna().to_csv(f\"{symbol}-{day_to_analyze}-MACD-hist.csv\")"
   ]
  }
 ],
 "metadata": {
  "kernelspec": {
   "display_name": "Python 3",
   "language": "python",
   "name": "python3"
  },
  "language_info": {
   "codemirror_mode": {
    "name": "ipython",
    "version": 3
   },
   "file_extension": ".py",
   "mimetype": "text/x-python",
   "name": "python",
   "nbconvert_exporter": "python",
   "pygments_lexer": "ipython3",
   "version": "3.8.0"
  }
 },
 "nbformat": 4,
 "nbformat_minor": 4
}
